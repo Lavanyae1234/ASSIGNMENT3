{
 "cells": [
  {
   "cell_type": "code",
   "execution_count": null,
   "id": "e3701549",
   "metadata": {},
   "outputs": [],
   "source": [
    "with the help of function we can avoid rewriting the same code again in the program."
   ]
  },
  {
   "cell_type": "code",
   "execution_count": null,
   "id": "cdda5322",
   "metadata": {},
   "outputs": [],
   "source": [
    "code in the function runs when it is called."
   ]
  },
  {
   "cell_type": "code",
   "execution_count": null,
   "id": "357ec22f",
   "metadata": {},
   "outputs": [],
   "source": [
    "def"
   ]
  },
  {
   "cell_type": "code",
   "execution_count": null,
   "id": "fe5366aa",
   "metadata": {},
   "outputs": [],
   "source": [
    "Function is a part of program defined seperately outside the program whereas function call is calling of the function.\n"
   ]
  },
  {
   "cell_type": "code",
   "execution_count": null,
   "id": "c9ed8a6c",
   "metadata": {},
   "outputs": [],
   "source": [
    "there will be only one global scopes, we can define many local scopes"
   ]
  },
  {
   "cell_type": "code",
   "execution_count": null,
   "id": "190eb79d",
   "metadata": {},
   "outputs": [],
   "source": [
    "the local variables are destroyed"
   ]
  },
  {
   "cell_type": "code",
   "execution_count": null,
   "id": "82fefe90",
   "metadata": {},
   "outputs": [],
   "source": [
    "A return is a value that a function returns to the calling script or function when it completes its task. A return value can be any one of the four variable types: handle, integer, object, or string. \n",
    "The type of value your function returns depends largely on the task it performs.\n",
    "\n",
    "\n",
    "Since return_42() returns a numeric value, you can use that value in a math expression or any other kind of expression in which the value has a logical or coherent meaning.\n",
    "This is how a caller code can take advantage of a function's return value."
   ]
  },
  {
   "cell_type": "code",
   "execution_count": null,
   "id": "54a20ee4",
   "metadata": {},
   "outputs": [],
   "source": [
    "If no return statement appears in a function definition, control automatically returns to the calling function after the last statement of the called function is executed. In this case, the return value of the called function is undefined."
   ]
  },
  {
   "cell_type": "code",
   "execution_count": null,
   "id": "6ec13d71",
   "metadata": {},
   "outputs": [],
   "source": [
    "If you want to refer to a global variable in a function, you can use the global keyword to declare which variables are global."
   ]
  },
  {
   "cell_type": "code",
   "execution_count": null,
   "id": "3e3b9b15",
   "metadata": {},
   "outputs": [],
   "source": [
    "none represents the absence of value. usually nothing or null."
   ]
  },
  {
   "cell_type": "code",
   "execution_count": null,
   "id": "ba7ca96c",
   "metadata": {},
   "outputs": [],
   "source": [
    "the import statement imports the module named allyourpetsnamederic."
   ]
  },
  {
   "cell_type": "code",
   "execution_count": null,
   "id": "91c41f6b",
   "metadata": {},
   "outputs": [],
   "source": [
    "spam.bacon()"
   ]
  },
  {
   "cell_type": "code",
   "execution_count": null,
   "id": "5bb84d4d",
   "metadata": {},
   "outputs": [],
   "source": [
    "try running the program instead crashing it should show errors"
   ]
  },
  {
   "cell_type": "code",
   "execution_count": null,
   "id": "e8d0fa9c",
   "metadata": {},
   "outputs": [],
   "source": [
    "The try block lets you test a block of code for errors.\n",
    "The except block lets you handle the error."
   ]
  }
 ],
 "metadata": {
  "kernelspec": {
   "display_name": "Python 3 (ipykernel)",
   "language": "python",
   "name": "python3"
  },
  "language_info": {
   "codemirror_mode": {
    "name": "ipython",
    "version": 3
   },
   "file_extension": ".py",
   "mimetype": "text/x-python",
   "name": "python",
   "nbconvert_exporter": "python",
   "pygments_lexer": "ipython3",
   "version": "3.9.12"
  }
 },
 "nbformat": 4,
 "nbformat_minor": 5
}
